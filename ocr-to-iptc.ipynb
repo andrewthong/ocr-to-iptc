{
 "cells": [
  {
   "cell_type": "markdown",
   "metadata": {},
   "source": [
    "# OCR Google Photos Prep\n",
    "\n",
    "Simple Jupyter script to run OCR on images in `src/` and then save results to IPTC so they will be set as the description in Google Photos when the image is uploaded.\n",
    "\n",
    "Images will be converted to `.jpg` (metadata support) and saved to `output/` folder."
   ]
  },
  {
   "cell_type": "markdown",
   "metadata": {},
   "source": [
    "## Import"
   ]
  },
  {
   "cell_type": "code",
   "execution_count": 11,
   "metadata": {},
   "outputs": [],
   "source": [
    "import pytesseract\n",
    "import os\n",
    "import glob\n",
    "import re\n",
    "\n",
    "from iptcinfo3 import IPTCInfo\n",
    "from PIL import Image\n",
    "\n",
    "import time\n",
    "import datetime\n",
    "\n",
    "from tqdm import tqdm"
   ]
  },
  {
   "cell_type": "markdown",
   "metadata": {},
   "source": [
    "### Setup\n",
    "\n",
    "Set correct tesseract executable\n",
    "\n",
    "[Tesseract guide](https://tesseract-ocr.github.io/tessdoc/Home.html)"
   ]
  },
  {
   "cell_type": "code",
   "execution_count": 2,
   "metadata": {},
   "outputs": [],
   "source": [
    "pytesseract.pytesseract.tesseract_cmd = r'/usr/local/Cellar/tesseract/4.1.1/bin/tesseract'"
   ]
  },
  {
   "cell_type": "markdown",
   "metadata": {},
   "source": [
    "Optional prefix (when renaming MacOS screenshots)"
   ]
  },
  {
   "cell_type": "code",
   "execution_count": 3,
   "metadata": {},
   "outputs": [],
   "source": [
    "output_prefix = 'data'"
   ]
  },
  {
   "cell_type": "code",
   "execution_count": 4,
   "metadata": {},
   "outputs": [],
   "source": [
    "\"\"\"\n",
    "    filename helper\n",
    "    formats standard MacOS screenshot format to \"url friendly\" plus prefix\n",
    "    otherwise keeps same filename\n",
    "\"\"\"\n",
    "def prep_filename(filename, prefix='', separator='-'):\n",
    "    # check if matches MacOS screenshot format\n",
    "    regex = re.search(\"Screen Shot ([0-9]{4}-[0-9]{2}-[0-9]{2}) at ([0-9]{1,2}\\.[0-9]{2}\\.[0-9]{2}) (AM|PM)\", filename)\n",
    "    if regex is not None: \n",
    "        datetime_string = regex.group(1) +\" \"+ regex.group(2) +\" \"+ regex.group(3)\n",
    "        datetime_obj = datetime.strptime(datetime_string, \"%Y-%m-%d %I.%M.%S %p\")\n",
    "        return prefix+separator+datetime_obj.strftime(\"%Y-%m-%d-%H-%M-%S\")\n",
    "    else:\n",
    "        # keep filename\n",
    "        r = re.search(\"^(src/)(.*)(\\.(png|jpg|jpeg|gif))$\", filename)\n",
    "        return r.group(2)"
   ]
  },
  {
   "cell_type": "markdown",
   "metadata": {},
   "source": [
    "## Sample\n",
    "![title](sample.png)"
   ]
  },
  {
   "cell_type": "code",
   "execution_count": 5,
   "metadata": {},
   "outputs": [
    {
     "name": "stdout",
     "output_type": "stream",
     "text": [
      "Observational studies can never\n",
      "be used to prove causation, only\n",
      "to demonstrate correlation.\n"
     ]
    }
   ],
   "source": [
    "sample_string = pytesseract.image_to_string(r'sample.png')\n",
    "print(sample_string)"
   ]
  },
  {
   "cell_type": "markdown",
   "metadata": {},
   "source": [
    "## Gather Files"
   ]
  },
  {
   "cell_type": "code",
   "execution_count": 6,
   "metadata": {},
   "outputs": [
    {
     "name": "stdout",
     "output_type": "stream",
     "text": [
      "Files found: 3\n"
     ]
    }
   ],
   "source": [
    "# find images in ./src/\n",
    "screenshots = glob.glob(\"src/*.png\") + glob.glob(\"src/*.gif\") + glob.glob(\"src/*.jpg\") + glob.glob(\"src/*.jpeg\")\n",
    "print(\"Files found: \"+str(len(screenshots)))"
   ]
  },
  {
   "cell_type": "markdown",
   "metadata": {},
   "source": [
    "## Run Operations"
   ]
  },
  {
   "cell_type": "code",
   "execution_count": 7,
   "metadata": {},
   "outputs": [],
   "source": [
    "# list to store output filenames\n",
    "output_screenshots = []\n",
    "# list to store OCR results\n",
    "captions = []"
   ]
  },
  {
   "cell_type": "markdown",
   "metadata": {},
   "source": [
    "### Convert to JPEG and run OCR\n",
    "\n",
    "Images must be converted to JPG to support EXIF/IPTC metadata. Run Tesseract to read text in images."
   ]
  },
  {
   "cell_type": "code",
   "execution_count": 12,
   "metadata": {},
   "outputs": [
    {
     "name": "stderr",
     "output_type": "stream",
     "text": [
      "100%|██████████| 3/3 [00:01<00:00,  2.02it/s]\n"
     ]
    }
   ],
   "source": [
    "# loop through screenshots in src/ to pass through OCR and convert to JPG\n",
    "for i in tqdm(range(len(screenshots))):\n",
    "    # load image\n",
    "    with Image.open(screenshots[i]) as sshot:\n",
    "        # convert to rgb (saving to jpg later)\n",
    "        sshot = sshot.convert('RGB')\n",
    "        # tesseract (OCR)\n",
    "        caption = pytesseract.image_to_string(sshot)\n",
    "        # store result in list\n",
    "        captions.append(caption)\n",
    "        # prepare filename\n",
    "        filebase = prep_filename(screenshots[i], prefix=output_prefix)\n",
    "        filename = \"output/\"+filebase+\".jpg\"\n",
    "        output_screenshots.append(filename)\n",
    "        # save jpg\n",
    "        sshot.save(filename)\n",
    "        sshot.close()"
   ]
  },
  {
   "cell_type": "markdown",
   "metadata": {},
   "source": [
    "### Insert Caption\n",
    "\n",
    "Open the saved jpg using IPTCInfo to write caption in."
   ]
  },
  {
   "cell_type": "code",
   "execution_count": 13,
   "metadata": {},
   "outputs": [
    {
     "name": "stderr",
     "output_type": "stream",
     "text": [
      "  0%|          | 0/3 [00:00<?, ?it/s]Marker scan hit start of image data\n",
      "Marker scan hit start of image data\n",
      "Marker scan hit start of image data\n",
      "100%|██████████| 3/3 [00:00<00:00, 207.00it/s]\n"
     ]
    }
   ],
   "source": [
    "for j in tqdm(range(len(output_screenshots))):\n",
    "    try:\n",
    "        \"\"\"\n",
    "            wrapping in a try for now\n",
    "            > \"WARNING:iptcinfo:Marker scan hit start of image data\"\n",
    "            IPTC metadata is still updated\n",
    "        \"\"\"\n",
    "        info = IPTCInfo(output_screenshots[j], force=True)\n",
    "        info['caption/abstract'] = str.encode(captions[j])\n",
    "        info.save()\n",
    "    except:\n",
    "        pass"
   ]
  },
  {
   "cell_type": "markdown",
   "metadata": {},
   "source": [
    "### Cleanup ~ Files\n",
    "\n",
    "(to investigate) IPTCInfo lib may create duplicate files with `~` prefixed. This portion removes those files (if found)"
   ]
  },
  {
   "cell_type": "code",
   "execution_count": 14,
   "metadata": {},
   "outputs": [
    {
     "name": "stderr",
     "output_type": "stream",
     "text": [
      "100%|██████████| 3/3 [00:00<00:00, 2001.42it/s]\n"
     ]
    }
   ],
   "source": [
    "# remove ~ files\n",
    "for k in tqdm(range(len(output_screenshots))):\n",
    "    filename = output_screenshots[k]+\"~\"\n",
    "    # check if file exists and as simple safeguard lookout for jpg string\n",
    "    if(os.path.exists(filename) and \"jpg\" in filename):\n",
    "        os.remove(filename)"
   ]
  },
  {
   "cell_type": "markdown",
   "metadata": {},
   "source": [
    "## Report\n",
    "\n",
    "At this point the processing is complete. This section is to review some of the results."
   ]
  },
  {
   "cell_type": "code",
   "execution_count": 15,
   "metadata": {},
   "outputs": [
    {
     "name": "stdout",
     "output_type": "stream",
     "text": [
      "0| output/sample-01.jpg\n",
      " | Because he had to open the door in this way, it was already wide open before he could be seen. He ha\n",
      "1| output/sample-03.jpg\n",
      " | As i waiched, the planet seemed to grow larger and smaller and to advance and recede, but that was s\n",
      "2| output/sample-02.jpg\n",
      " | Next morning the not-yet- subsided sea rolled in long slow billows of mighty bulk, and striving in t\n"
     ]
    }
   ],
   "source": [
    "total_reports = min(len(captions), 10)\n",
    "for n in range(total_reports):\n",
    "    print(str(n)+'| '+output_screenshots[n])\n",
    "    print(' | '+captions[n][:100].replace(\"\\n\", \" \"))"
   ]
  },
  {
   "cell_type": "code",
   "execution_count": null,
   "metadata": {},
   "outputs": [],
   "source": []
  }
 ],
 "metadata": {
  "kernelspec": {
   "display_name": "Python 3",
   "language": "python",
   "name": "python3"
  },
  "language_info": {
   "codemirror_mode": {
    "name": "ipython",
    "version": 3
   },
   "file_extension": ".py",
   "mimetype": "text/x-python",
   "name": "python",
   "nbconvert_exporter": "python",
   "pygments_lexer": "ipython3",
   "version": "3.7.4"
  }
 },
 "nbformat": 4,
 "nbformat_minor": 4
}
